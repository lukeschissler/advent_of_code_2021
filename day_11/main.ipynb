{
 "cells": [
  {
   "cell_type": "markdown",
   "metadata": {},
   "source": [
    "Part 1"
   ]
  },
  {
   "cell_type": "code",
   "execution_count": 124,
   "metadata": {},
   "outputs": [],
   "source": [
    "ins = open('input.txt', 'r')\n",
    "ins = ins.read().splitlines()\n",
    "to_int = lambda x: [int(y) for y in list(x)]\n",
    "ins = [to_int(x) for x in ins]"
   ]
  },
  {
   "cell_type": "code",
   "execution_count": 125,
   "metadata": {},
   "outputs": [],
   "source": [
    "# Find all safe matric access including vertical, horizontal, diagonal\n",
    "def get_safe_indices(x, y, max_x, max_y):\n",
    "    output = []\n",
    "    if x != 0:\n",
    "        output.append([x-1, y])\n",
    "        if y != 0: \n",
    "            output.append([x-1, y-1])\n",
    "        if y != max_y:\n",
    "            output.append([x-1, y+1])\n",
    "    if x != max_x:\n",
    "        output.append([x+1, y])\n",
    "        if y != 0:\n",
    "            output.append([x+1, y-1])\n",
    "        if y != max_y:\n",
    "            output.append([x+1, y+1])\n",
    "    if y != 0:\n",
    "        output.append([x, y-1])\n",
    "    if y != max_y: \n",
    "        output.append([x, y+1])\n",
    "\n",
    "    return output"
   ]
  },
  {
   "cell_type": "code",
   "execution_count": 126,
   "metadata": {},
   "outputs": [],
   "source": [
    "def part_1(ins, part_2 = False):\n",
    "    max_x = len(ins[0])-1\n",
    "    max_y = len(ins)-1\n",
    "    flashes = 0\n",
    "\n",
    "    def search_neighbors(x, y):\n",
    "        safe_indices = get_safe_indices(x, y, max_x, max_y)\n",
    "\n",
    "        for x, y in safe_indices:\n",
    "            if ins[y][x] == 9:\n",
    "                ins[y][x] = 0\n",
    "                set_zero.append([x,y])\n",
    "                nonlocal flashes\n",
    "                flashes += 1\n",
    "                search_neighbors(x, y)\n",
    "            if [x, y] not in set_zero:\n",
    "                ins[y][x] += 1\n",
    "\n",
    "    for i in range(100000):\n",
    "        # Keep track of nodes set zero in current iteration\n",
    "        set_zero=[]\n",
    "        for y, row in enumerate(ins):\n",
    "            for x, node in enumerate(row):\n",
    "                # Set to zero, trigger neighbor search\n",
    "                if node == 9:\n",
    "                    flashes += 1\n",
    "                    ins[y][x] = 0\n",
    "                    set_zero.append([x, y])\n",
    "                    search_neighbors(x, y)\n",
    "                \n",
    "                # If we've set this to zero this round, ignore\n",
    "                if [x, y] not in set_zero:\n",
    "                    ins[y][x] += 1\n",
    "        \n",
    "        # Part 2\n",
    "        # If we have set every index to 0 this round, they are synced\n",
    "        if len(set_zero) == (max_x+1) * (max_y+1) and part_2:\n",
    "            return i+1\n",
    "    return flashes"
   ]
  },
  {
   "cell_type": "code",
   "execution_count": 127,
   "metadata": {},
   "outputs": [],
   "source": [
    "#print(part_1(ins))"
   ]
  },
  {
   "cell_type": "markdown",
   "metadata": {},
   "source": [
    "Part 2"
   ]
  },
  {
   "cell_type": "code",
   "execution_count": 128,
   "metadata": {},
   "outputs": [
    {
     "name": "stdout",
     "output_type": "stream",
     "text": [
      "100\n",
      "[[0, 0, 0, 0, 0, 0, 0, 0, 0, 0], [0, 0, 0, 0, 0, 0, 0, 0, 0, 0], [0, 0, 0, 0, 0, 0, 0, 0, 0, 0], [0, 0, 0, 0, 0, 0, 0, 0, 0, 0], [0, 0, 0, 0, 0, 0, 0, 0, 0, 0], [0, 0, 0, 0, 0, 0, 0, 0, 0, 0], [0, 0, 0, 0, 0, 0, 0, 0, 0, 0], [0, 0, 0, 0, 0, 0, 0, 0, 0, 0], [0, 0, 0, 0, 0, 0, 0, 0, 0, 0], [0, 0, 0, 0, 0, 0, 0, 0, 0, 0]]\n",
      "298\n"
     ]
    }
   ],
   "source": [
    "print(part_1(ins, True))"
   ]
  }
 ],
 "metadata": {
  "kernelspec": {
   "display_name": "Python 3.10.6 64-bit",
   "language": "python",
   "name": "python3"
  },
  "language_info": {
   "codemirror_mode": {
    "name": "ipython",
    "version": 3
   },
   "file_extension": ".py",
   "mimetype": "text/x-python",
   "name": "python",
   "nbconvert_exporter": "python",
   "pygments_lexer": "ipython3",
   "version": "3.10.6"
  },
  "orig_nbformat": 4,
  "vscode": {
   "interpreter": {
    "hash": "b0fa6594d8f4cbf19f97940f81e996739fb7646882a419484c72d19e05852a7e"
   }
  }
 },
 "nbformat": 4,
 "nbformat_minor": 2
}
