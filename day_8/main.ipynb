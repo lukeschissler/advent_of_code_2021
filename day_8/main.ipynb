{
 "cells": [
  {
   "cell_type": "markdown",
   "metadata": {},
   "source": [
    "Part 1"
   ]
  },
  {
   "cell_type": "code",
   "execution_count": 3,
   "metadata": {},
   "outputs": [],
   "source": [
    "from collections import Counter"
   ]
  },
  {
   "cell_type": "code",
   "execution_count": 4,
   "metadata": {},
   "outputs": [],
   "source": [
    "ins = open('input.txt', 'r')\n",
    "outs = [x.split('|')[1].strip().split(' ') for x in ins.readlines()]\n",
    "outs = [len(x) for y in outs for x in y]"
   ]
  },
  {
   "cell_type": "code",
   "execution_count": 5,
   "metadata": {},
   "outputs": [
    {
     "name": "stdout",
     "output_type": "stream",
     "text": [
      "255\n"
     ]
    }
   ],
   "source": [
    "counts = Counter(outs)\n",
    "print(sum([counts[2], counts[4], counts[3], counts[7]]))\n"
   ]
  },
  {
   "cell_type": "markdown",
   "metadata": {},
   "source": [
    "Part 2"
   ]
  },
  {
   "cell_type": "code",
   "execution_count": 6,
   "metadata": {},
   "outputs": [],
   "source": [
    "ins = open('input.txt', 'r')\n",
    "sample = [x.split('|') for x in ins.readlines()]"
   ]
  },
  {
   "cell_type": "code",
   "execution_count": 7,
   "metadata": {},
   "outputs": [
    {
     "data": {
      "text/plain": [
       "<function __main__.contains_all(str1, str2)>"
      ]
     },
     "execution_count": 7,
     "metadata": {},
     "output_type": "execute_result"
    }
   ],
   "source": [
    "# Does str 1 contain all of str 2\n",
    "def contains_all(str1, str2):\n",
    "    for c in str2:\n",
    "        if c not in str1:\n",
    "            return False\n",
    "    return True\n",
    "\n",
    "sorts = lambda s: ''.join(sorted(s))\n",
    "\n",
    "contains_all\n"
   ]
  },
  {
   "cell_type": "code",
   "execution_count": 8,
   "metadata": {},
   "outputs": [
    {
     "name": "stdout",
     "output_type": "stream",
     "text": [
      "982158\n"
     ]
    }
   ],
   "source": [
    "\n",
    "sum = 0\n",
    "\n",
    "for item in sample:\n",
    "    input, output = item\n",
    "    digits = {}\n",
    "    temp_num = ''\n",
    "    ins_splitted = [sorts(s) for s in input.split(' ')]\n",
    "    outs_splitted = [sorts(s) for s in output.split(' ')]\n",
    "\n",
    "    # digits 1, 4, 7, 8\n",
    "    for ins in ins_splitted:\n",
    "        constant_digits = {2: 1, 3:7, 7:8, 4:4}\n",
    "        if len(ins) in constant_digits.keys():\n",
    "            digits[constant_digits[len(ins)]] = ins\n",
    "    \n",
    "    # digits 9, 6, 0 \n",
    "    for ins in ins_splitted:\n",
    "        if len(ins) == 6:\n",
    "            if contains_all(ins, digits[4]):\n",
    "                digits[9] = ins\n",
    "            elif contains_all(ins, digits[7]):\n",
    "                digits[0] = ins\n",
    "            else:\n",
    "                digits[6] = ins\n",
    "    \n",
    "    # digits 5, 3, 2\n",
    "    for ins in ins_splitted:\n",
    "        if len(ins) == 5:\n",
    "            if contains_all(ins, digits[1]):\n",
    "                digits[3] = ins\n",
    "            elif contains_all(digits[9], ins):\n",
    "                digits[5] = ins\n",
    "            else:\n",
    "                digits[2] = ins\n",
    "                \n",
    "    reverse_digits = {y:x for x,y in digits.items()}\n",
    "\n",
    "    for outs in outs_splitted:\n",
    "        outs = outs.strip()\n",
    "        if outs != '':\n",
    "            temp_num += str(reverse_digits[outs])\n",
    "    \n",
    "    sum += int(temp_num)\n",
    "\n",
    "print(sum)\n"
   ]
  }
 ],
 "metadata": {
  "kernelspec": {
   "display_name": "Python 3.10.6 64-bit",
   "language": "python",
   "name": "python3"
  },
  "language_info": {
   "codemirror_mode": {
    "name": "ipython",
    "version": 3
   },
   "file_extension": ".py",
   "mimetype": "text/x-python",
   "name": "python",
   "nbconvert_exporter": "python",
   "pygments_lexer": "ipython3",
   "version": "3.10.6"
  },
  "orig_nbformat": 4,
  "vscode": {
   "interpreter": {
    "hash": "b0fa6594d8f4cbf19f97940f81e996739fb7646882a419484c72d19e05852a7e"
   }
  }
 },
 "nbformat": 4,
 "nbformat_minor": 2
}
