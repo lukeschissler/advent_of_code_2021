{
 "cells": [
  {
   "cell_type": "markdown",
   "metadata": {},
   "source": [
    "Part 1"
   ]
  },
  {
   "cell_type": "code",
   "execution_count": 2,
   "metadata": {},
   "outputs": [],
   "source": [
    "ins = open('input.txt', 'r')\n",
    "ins = ins.read().splitlines()"
   ]
  },
  {
   "cell_type": "code",
   "execution_count": 4,
   "metadata": {},
   "outputs": [],
   "source": [
    "points = {\n",
    "        ')': 3,\n",
    "        ']': 57,\n",
    "        '}': 1197,\n",
    "        '>': 25137\n",
    "    }\n",
    "symbols = {\n",
    "        '(':')',\n",
    "        '[':']',\n",
    "        '{':'}',\n",
    "        '<':'>'\n",
    "    }"
   ]
  },
  {
   "cell_type": "code",
   "execution_count": 20,
   "metadata": {},
   "outputs": [],
   "source": [
    "def part_1(ins):\n",
    "    point_tally = 0\n",
    "    bad_lines = []\n",
    "    for i, line in enumerate(ins):\n",
    "        cleaned_line = ''\n",
    "        for c in line:\n",
    "            # If a char is an opening char, append it\n",
    "            if c in symbols.keys():\n",
    "                cleaned_line += c\n",
    "\n",
    "            # If a char is a closing char, check if it is valid or not    \n",
    "            else:\n",
    "                # If a closing char is valid, cancel out an opening char \n",
    "                if c == symbols[cleaned_line[-1]]:\n",
    "                    cleaned_line = cleaned_line[:-1]\n",
    "                \n",
    "                # If a closing char is invalid, add its points to the tally, and skip current loop iteration\n",
    "                else:\n",
    "                    point_tally += points[c]\n",
    "                    bad_lines.append(i)\n",
    "                    break\n",
    "\n",
    "    return (point_tally, bad_lines)"
   ]
  },
  {
   "cell_type": "code",
   "execution_count": null,
   "metadata": {},
   "outputs": [],
   "source": [
    "print(part_1(ins))"
   ]
  },
  {
   "cell_type": "markdown",
   "metadata": {},
   "source": [
    "Part 2"
   ]
  },
  {
   "cell_type": "code",
   "execution_count": 23,
   "metadata": {},
   "outputs": [],
   "source": [
    "# Clean input using Part 1 answer\n",
    "\n",
    "part_1_points, part_1_bad_lines = part_1(ins)\n",
    "incomplete_ins = [x for i, x in enumerate(ins) if i not in part_1_bad_lines]"
   ]
  },
  {
   "cell_type": "code",
   "execution_count": 24,
   "metadata": {},
   "outputs": [],
   "source": [
    "points_2 = {\n",
    "    ')' : 1,\n",
    "    ']' : 2,\n",
    "    '}' : 3,\n",
    "    '>' : 4,\n",
    "}"
   ]
  },
  {
   "cell_type": "code",
   "execution_count": 31,
   "metadata": {},
   "outputs": [],
   "source": [
    "def part_2(ins):\n",
    "    point_tallies = []\n",
    "    for line in ins:\n",
    "        point_tally = 0\n",
    "        cleaned_line = ''\n",
    "        for c in line:\n",
    "             # If a char is an opening char, append it\n",
    "            if c in symbols.keys():\n",
    "                cleaned_line += c\n",
    "            # If a char is a closing char, cancel out corresponding opening char\n",
    "            else:\n",
    "                cleaned_line = cleaned_line[:-1]\n",
    "        \n",
    "        # Reverse leftover open chars to determine closure order\n",
    "        cleaned_line = cleaned_line[::-1]\n",
    "\n",
    "        # Sum points according to problem equation\n",
    "        for c in cleaned_line:\n",
    "            point_tally = point_tally * 5 + points_2[symbols[c]]\n",
    "\n",
    "        point_tallies.append(point_tally)\n",
    "    \n",
    "    # Return middle point score\n",
    "    point_tallies.sort()\n",
    "    return point_tallies[len(point_tallies)//2]"
   ]
  },
  {
   "cell_type": "code",
   "execution_count": 32,
   "metadata": {},
   "outputs": [
    {
     "name": "stdout",
     "output_type": "stream",
     "text": [
      "3583341858\n"
     ]
    }
   ],
   "source": [
    "print(part_2(incomplete_ins))"
   ]
  }
 ],
 "metadata": {
  "kernelspec": {
   "display_name": "Python 3.10.6 64-bit",
   "language": "python",
   "name": "python3"
  },
  "language_info": {
   "codemirror_mode": {
    "name": "ipython",
    "version": 3
   },
   "file_extension": ".py",
   "mimetype": "text/x-python",
   "name": "python",
   "nbconvert_exporter": "python",
   "pygments_lexer": "ipython3",
   "version": "3.10.6"
  },
  "orig_nbformat": 4,
  "vscode": {
   "interpreter": {
    "hash": "b0fa6594d8f4cbf19f97940f81e996739fb7646882a419484c72d19e05852a7e"
   }
  }
 },
 "nbformat": 4,
 "nbformat_minor": 2
}
