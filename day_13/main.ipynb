{
 "cells": [
  {
   "cell_type": "markdown",
   "metadata": {},
   "source": [
    "Part 1"
   ]
  },
  {
   "cell_type": "code",
   "execution_count": 233,
   "metadata": {},
   "outputs": [],
   "source": [
    "ins = open('input.txt', 'r')\n",
    "ins = ins.read().splitlines()\n",
    "to_int = lambda line : tuple(int(x) for x in line.split(','))\n",
    "ins = [to_int(line) for line in ins]"
   ]
  },
  {
   "cell_type": "code",
   "execution_count": 234,
   "metadata": {},
   "outputs": [],
   "source": [
    "folds = open('folds.txt', 'r')\n",
    "folds = folds.read().splitlines()\n",
    "folds = [line.split('=') for line in folds]\n",
    "folds = [(x[-1], int(y)) for x, y in folds]"
   ]
  },
  {
   "cell_type": "code",
   "execution_count": 235,
   "metadata": {},
   "outputs": [],
   "source": [
    "# For the first part, consider only the first fold, where x=655\n",
    "def part_1(ins, fold):\n",
    "    post_fold = []\n",
    "    for (x, y) in ins:\n",
    "        if x > fold:\n",
    "            # A points updated location after the fold is \n",
    "            new_x = x - ((x - fold) * 2)  \n",
    "            post_fold.append((new_x, y))\n",
    "        else:\n",
    "            post_fold.append((x, y))\n",
    "    \n",
    "    return len(set(post_fold))"
   ]
  },
  {
   "cell_type": "code",
   "execution_count": 236,
   "metadata": {},
   "outputs": [
    {
     "name": "stdout",
     "output_type": "stream",
     "text": [
      "942\n"
     ]
    }
   ],
   "source": [
    "print(part_1(ins, folds[0][1]))"
   ]
  },
  {
   "cell_type": "markdown",
   "metadata": {},
   "source": [
    "Part 2"
   ]
  },
  {
   "cell_type": "code",
   "execution_count": 237,
   "metadata": {},
   "outputs": [],
   "source": [
    "import numpy as np\n",
    "import matplotlib.pyplot as plt"
   ]
  },
  {
   "cell_type": "code",
   "execution_count": 238,
   "metadata": {},
   "outputs": [],
   "source": [
    "def part_2(ins, folds):\n",
    "    post_fold = []\n",
    "    \n",
    "    # If we have no folds left, return the answer\n",
    "    if len(folds)==0:\n",
    "        return ins\n",
    "    \n",
    "    # If we have folds left, recurse over previous answer\n",
    "    else:\n",
    "        (dim, fold) = folds.pop(0)\n",
    "        for (x, y) in ins:\n",
    "            # Horizontal fold\n",
    "            if dim == 'x':\n",
    "                if x > fold:\n",
    "                # A points updated location after the fold is \n",
    "                    new_x = x - ((x - fold) * 2)  \n",
    "                    post_fold.append((new_x, y))\n",
    "                else:\n",
    "                    post_fold.append((x, y))\n",
    "            # Vertical fold\n",
    "            else:\n",
    "                if y > fold:\n",
    "                # A points updated location after the fold is \n",
    "                    new_y = y - ((y - fold) * 2)  \n",
    "                    post_fold.append((x, new_y))\n",
    "                else:\n",
    "                    post_fold.append((x, y))\n",
    "\n",
    "    post_fold = list(set(post_fold))\n",
    "    return [] + part_2(post_fold, folds)"
   ]
  },
  {
   "cell_type": "code",
   "execution_count": 239,
   "metadata": {},
   "outputs": [],
   "source": [
    "# Format answer to get capital letters by building graph\n",
    "def format_answer(ins):\n",
    "    max_x = max([x for x,y in ins])\n",
    "    max_y = max([y for x,y in ins])\n",
    "    graph = [[' ' for x in range(max_x + 1)] for y in range(max_y + 1)]\n",
    "\n",
    "    for x, y in ins:\n",
    "        graph[y][x] = '#'\n",
    "    for line in graph:\n",
    "        print(line)\n"
   ]
  },
  {
   "cell_type": "code",
   "execution_count": 240,
   "metadata": {},
   "outputs": [
    {
     "name": "stdout",
     "output_type": "stream",
     "text": [
      "[' ', ' ', '#', '#', ' ', '#', '#', '#', '#', ' ', ' ', '#', '#', ' ', ' ', '#', ' ', ' ', '#', ' ', ' ', '#', '#', ' ', ' ', '#', '#', '#', ' ', ' ', '#', '#', '#', ' ', ' ', '#', '#', '#', ' ']\n",
      "[' ', ' ', ' ', '#', ' ', ' ', ' ', ' ', '#', ' ', '#', ' ', ' ', '#', ' ', '#', ' ', ' ', '#', ' ', '#', ' ', ' ', '#', ' ', '#', ' ', ' ', '#', ' ', '#', ' ', ' ', '#', ' ', '#', ' ', ' ', '#']\n",
      "[' ', ' ', ' ', '#', ' ', ' ', ' ', '#', ' ', ' ', '#', ' ', ' ', ' ', ' ', '#', ' ', ' ', '#', ' ', '#', ' ', ' ', '#', ' ', '#', ' ', ' ', '#', ' ', '#', ' ', ' ', '#', ' ', '#', '#', '#', ' ']\n",
      "[' ', ' ', ' ', '#', ' ', ' ', '#', ' ', ' ', ' ', '#', ' ', '#', '#', ' ', '#', ' ', ' ', '#', ' ', '#', '#', '#', '#', ' ', '#', '#', '#', ' ', ' ', '#', '#', '#', ' ', ' ', '#', ' ', ' ', '#']\n",
      "['#', ' ', ' ', '#', ' ', '#', ' ', ' ', ' ', ' ', '#', ' ', ' ', '#', ' ', '#', ' ', ' ', '#', ' ', '#', ' ', ' ', '#', ' ', '#', ' ', ' ', ' ', ' ', '#', ' ', '#', ' ', ' ', '#', ' ', ' ', '#']\n",
      "[' ', '#', '#', ' ', ' ', '#', '#', '#', '#', ' ', ' ', '#', '#', '#', ' ', ' ', '#', '#', ' ', ' ', '#', ' ', ' ', '#', ' ', '#', ' ', ' ', ' ', ' ', '#', ' ', ' ', '#', ' ', '#', '#', '#', ' ']\n"
     ]
    }
   ],
   "source": [
    "outs = part_2(ins, folds)\n",
    "format_answer(outs)"
   ]
  }
 ],
 "metadata": {
  "kernelspec": {
   "display_name": "Python 3.10.6 64-bit",
   "language": "python",
   "name": "python3"
  },
  "language_info": {
   "codemirror_mode": {
    "name": "ipython",
    "version": 3
   },
   "file_extension": ".py",
   "mimetype": "text/x-python",
   "name": "python",
   "nbconvert_exporter": "python",
   "pygments_lexer": "ipython3",
   "version": "3.10.6"
  },
  "orig_nbformat": 4,
  "vscode": {
   "interpreter": {
    "hash": "b0fa6594d8f4cbf19f97940f81e996739fb7646882a419484c72d19e05852a7e"
   }
  }
 },
 "nbformat": 4,
 "nbformat_minor": 2
}
