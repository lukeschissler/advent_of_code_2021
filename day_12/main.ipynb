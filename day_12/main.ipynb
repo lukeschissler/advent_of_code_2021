{
 "cells": [
  {
   "cell_type": "markdown",
   "metadata": {},
   "source": [
    "Part 1"
   ]
  },
  {
   "cell_type": "code",
   "execution_count": 117,
   "metadata": {},
   "outputs": [],
   "source": [
    "ins = open('input.txt', 'r')\n",
    "ins = ins.read().splitlines()\n",
    "ins = [x.split('-') for x in ins]\n",
    "paths = {}\n",
    "for x, y in ins:\n",
    "    if x in paths:\n",
    "        paths[x].append(y)\n",
    "    else:\n",
    "        paths[x] = [y]\n",
    "    if y in paths:\n",
    "        paths[y].append(x)\n",
    "    else:\n",
    "        paths[y] = [x]"
   ]
  },
  {
   "cell_type": "code",
   "execution_count": 118,
   "metadata": {},
   "outputs": [],
   "source": [
    "def part_1(paths):\n",
    "    outs = []\n",
    "\n",
    "    def dfs(curr_pos, seen_small, chain):\n",
    "        chain += [curr_pos]\n",
    "        if curr_pos.islower():\n",
    "            seen_small += [curr_pos]\n",
    "        if curr_pos == 'end':\n",
    "            outs.append(chain)\n",
    "            return\n",
    "\n",
    "        for pos in paths[curr_pos]:\n",
    "            if pos not in seen_small:\n",
    "                dfs(pos, [*seen_small], [*chain])\n",
    "\n",
    "    dfs('start', [], [])\n",
    "    \n",
    "    return outs"
   ]
  },
  {
   "cell_type": "code",
   "execution_count": 119,
   "metadata": {},
   "outputs": [
    {
     "name": "stdout",
     "output_type": "stream",
     "text": [
      "5958\n"
     ]
    }
   ],
   "source": [
    "print(len(part_1(paths)))"
   ]
  },
  {
   "cell_type": "markdown",
   "metadata": {},
   "source": [
    "Part 2"
   ]
  },
  {
   "cell_type": "code",
   "execution_count": 120,
   "metadata": {},
   "outputs": [],
   "source": [
    "def part_2(paths):\n",
    "    outs = []\n",
    "    non_repeats = ['start', 'end']\n",
    "\n",
    "\n",
    "    def dfs(curr_pos, seen_small, chain, repeated):\n",
    "        chain += [curr_pos]\n",
    "        if curr_pos.islower():\n",
    "            seen_small += [curr_pos]\n",
    "        if curr_pos == 'end':\n",
    "            outs.append(chain)\n",
    "            return\n",
    "\n",
    "        for pos in paths[curr_pos]:\n",
    "            if pos not in seen_small:\n",
    "                dfs(pos, [*seen_small], [*chain], repeated)\n",
    "            elif pos not in non_repeats and not repeated:\n",
    "                dfs(pos, [*seen_small], [*chain], True)\n",
    "\n",
    "    dfs('start', [], [], False)\n",
    "    \n",
    "    return outs"
   ]
  },
  {
   "cell_type": "code",
   "execution_count": 121,
   "metadata": {},
   "outputs": [
    {
     "name": "stdout",
     "output_type": "stream",
     "text": [
      "150426\n"
     ]
    }
   ],
   "source": [
    "print(len(part_2(paths)))"
   ]
  }
 ],
 "metadata": {
  "kernelspec": {
   "display_name": "Python 3.10.6 64-bit",
   "language": "python",
   "name": "python3"
  },
  "language_info": {
   "codemirror_mode": {
    "name": "ipython",
    "version": 3
   },
   "file_extension": ".py",
   "mimetype": "text/x-python",
   "name": "python",
   "nbconvert_exporter": "python",
   "pygments_lexer": "ipython3",
   "version": "3.10.6"
  },
  "orig_nbformat": 4,
  "vscode": {
   "interpreter": {
    "hash": "b0fa6594d8f4cbf19f97940f81e996739fb7646882a419484c72d19e05852a7e"
   }
  }
 },
 "nbformat": 4,
 "nbformat_minor": 2
}
